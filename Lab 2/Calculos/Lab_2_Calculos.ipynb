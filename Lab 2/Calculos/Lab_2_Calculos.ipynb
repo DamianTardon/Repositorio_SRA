{
 "cells": [
  {
   "cell_type": "code",
   "execution_count": 1,
   "metadata": {},
   "outputs": [],
   "source": [
    "import numpy as np\n",
    "import math\n",
    "\n",
    "#Definicion de parametros\n",
    "Vsat_max = 10\n",
    "Vsat_min = -10\n",
    "R_Pa = 500\n",
    "R_Pb = 500e3\n",
    "R_fa = 30e3\n",
    "R_fb = 30e6\n",
    "Ad = 100e3\n",
    "Ra = 1e3\n",
    "Rb = 1e6"
   ]
  },
  {
   "cell_type": "code",
   "execution_count": 2,
   "metadata": {},
   "outputs": [
    {
     "name": "stdout",
     "output_type": "stream",
     "text": [
      "Error_A = 0.000610\n",
      "Error_B = 0.000610\n",
      "Error_VoA = 0.006100 V\n",
      "Error_VoB = 0.006100 V\n"
     ]
    }
   ],
   "source": [
    "#Error por Ad finito:\n",
    "error_GananciaFinita_A = 1/(Ad*(R_Pa/(R_Pa+R_fa)))\n",
    "error_GananciaFinita_B = 1/(Ad*(R_Pb/(R_Pb+R_fb)))\n",
    "\n",
    "delta_VOa=error_GananciaFinita_A*10\n",
    "delta_VOb=error_GananciaFinita_B*10\n",
    "\n",
    "print(f\"Error_A = {error_GananciaFinita_A:.6f}\")\n",
    "print(f\"Error_B = {error_GananciaFinita_B:.6f}\")\n",
    "print(f\"Error_VoA = {delta_VOa:.6f} V\")\n",
    "print(f\"Error_VoB = {delta_VOb:.6f} V\")"
   ]
  },
  {
   "cell_type": "code",
   "execution_count": 3,
   "metadata": {},
   "outputs": [
    {
     "name": "stdout",
     "output_type": "stream",
     "text": [
      "Error CC total = 1.418100 \n"
     ]
    }
   ],
   "source": [
    "#Error de CC total:\n",
    "e_I_os = 1.35\n",
    "e_V_os = 62e-3\n",
    "e_Ad = 6.10e-3\n",
    "e_RRMC = 0\n",
    "\n",
    "e_total = e_I_os+e_V_os+e_Ad+e_RRMC\n",
    "\n",
    "print(f\"Error CC total = {e_total:.6f} \")"
   ]
  },
  {
   "cell_type": "code",
   "execution_count": 4,
   "metadata": {},
   "outputs": [
    {
     "name": "stdout",
     "output_type": "stream",
     "text": [
      "K1a = 0.016393 \n",
      "K1b = 0.016393 \n"
     ]
    }
   ],
   "source": [
    "#Cantidad de realimentacion K:\n",
    "K1a = R_Pa/(R_Pa+R_fa)\n",
    "K1b = R_Pb/(R_Pb+R_fb)\n",
    "\n",
    "print(f\"K1a = {K1a:.6f} \")\n",
    "print(f\"K1b = {K1b:.6f} \")"
   ]
  },
  {
   "cell_type": "code",
   "execution_count": 5,
   "metadata": {},
   "outputs": [
    {
     "name": "stdout",
     "output_type": "stream",
     "text": [
      "f_H = 16393.442623 \n",
      "w_H = 103003.037823 \n"
     ]
    }
   ],
   "source": [
    "#Ancho de banda de pequeña señal:\n",
    "w_T = 1e6\n",
    "\n",
    "f_H = K1a*w_T\n",
    "w_H = f_H*2*math.pi\n",
    "\n",
    "print(f\"f_H = {f_H:.6f} \")\n",
    "print(f\"w_H = {w_H:.6f} \")"
   ]
  },
  {
   "cell_type": "code",
   "execution_count": 6,
   "metadata": {},
   "outputs": [
    {
     "name": "stdout",
     "output_type": "stream",
     "text": [
      "w_HP = 40000.000000 \n",
      "f_HP = 6366.197724 \n"
     ]
    }
   ],
   "source": [
    "#Ancho de banda de plena potencia:\n",
    "V_pp = 10\n",
    "SR = 0.4/(1e-6)\n",
    "\n",
    "w_HP = SR/V_pp\n",
    "f_HP = SR/(2*math.pi*V_pp)\n",
    "\n",
    "print(f\"w_HP = {w_HP:.6f} \")\n",
    "print(f\"f_HP = {f_HP:.6f} \")\n"
   ]
  },
  {
   "cell_type": "code",
   "execution_count": 7,
   "metadata": {},
   "outputs": [
    {
     "name": "stdout",
     "output_type": "stream",
     "text": [
      "f_H\t Avf\t modulo\t fase (grados)\t Ev\t modulo\t fase (grados)\n",
      "0.1 \t 0.909 \t 0.995 \t -5.711 \t 0.091 \t 0.005 \t 84.289\n",
      "0.2 \t 0.833 \t 0.981 \t -11.310 \t 0.167 \t 0.019 \t 78.690\n",
      "0.3 \t 0.769 \t 0.958 \t -16.699 \t 0.231 \t 0.042 \t 73.301\n",
      "0.4 \t 0.714 \t 0.928 \t -21.801 \t 0.286 \t 0.072 \t 68.199\n",
      "0.5 \t 0.667 \t 0.894 \t -26.565 \t 0.333 \t 0.106 \t 63.435\n",
      "0.6 \t 0.625 \t 0.857 \t -30.964 \t 0.375 \t 0.143 \t 59.036\n",
      "0.7 \t 0.588 \t 0.819 \t -34.992 \t 0.412 \t 0.181 \t 55.008\n",
      "0.8 \t 0.556 \t 0.781 \t -38.660 \t 0.444 \t 0.219 \t 51.340\n",
      "0.9 \t 0.526 \t 0.743 \t -41.987 \t 0.474 \t 0.257 \t 48.013\n",
      "1.0 \t 0.500 \t 0.707 \t -45.000 \t 0.500 \t 0.293 \t 45.000\n"
     ]
    }
   ],
   "source": [
    "#Crear los valores de f como un porcentaje de f_H\n",
    "porcentajes = np.arange(0.1, 1.1, 0.1)  # 10% al 100% en incrementos de 10%\n",
    "f_valores = porcentajes*f_H  # Arreglo de valores de f correspondientes\n",
    "\n",
    "#Inicializar listas para almacenar resultados\n",
    "avf = []\n",
    "avf_modulo = []\n",
    "avf_fase = []\n",
    "ev = []\n",
    "ev_modulo = []\n",
    "ev_fase = []\n",
    "\n",
    "#Cálculos para cada valor de f\n",
    "for f in f_valores:\n",
    "    # Ganancia Normalizada\n",
    "    avf_valor = 1/(1+f/f_H)\n",
    "    avf.append(avf_valor)\n",
    "    \n",
    "    # Módulo de Ganancia Normalizada\n",
    "    avf_mod_valor = 1/math.sqrt(1+(f**2)/(f_H**2))\n",
    "    avf_modulo.append(avf_mod_valor)\n",
    "    \n",
    "    # Fase de Ganancia Normalizada\n",
    "    avf_fase_valor = -math.atan(f/f_H)\n",
    "    avf_fase.append(math.degrees(avf_fase_valor))\n",
    "    \n",
    "    # Error Vectorial\n",
    "    ev_valor = 1-avf_valor\n",
    "    ev.append(ev_valor)\n",
    "    \n",
    "    # Módulo de Error Vectorial\n",
    "    ev_mod_valor = 1-avf_mod_valor\n",
    "    ev_modulo.append(ev_mod_valor)\n",
    "    \n",
    "    # Fase de Error Vectorial\n",
    "    ev_fase_valor = (math.pi/2)+avf_fase_valor\n",
    "    ev_fase.append(math.degrees(ev_fase_valor))\n",
    "\n",
    "print(\"f_H\\t Avf\\t modulo\\t fase (grados)\\t Ev\\t modulo\\t fase (grados)\")\n",
    "for i in range(len(porcentajes)):\n",
    "    print(f\"{porcentajes[i]:.1f} \\t {avf[i]:.3f} \\t {avf_modulo[i]:.3f} \\t {avf_fase[i]:.3f} \\t {ev[i]:.3f} \\t {ev_modulo[i]:.3f} \\t {ev_fase[i]:.3f}\")"
   ]
  },
  {
   "cell_type": "code",
   "execution_count": 13,
   "metadata": {},
   "outputs": [
    {
     "name": "stdout",
     "output_type": "stream",
     "text": [
      "SR = 400000.000000 \n",
      "SR_simulado_50 = 484800.966498 \n",
      "SR_simulado_100 = 496983.323350 \n",
      "vo_3dB_50 = 6.056452 \n",
      "vo_3dB_100 = 5.859916 \n"
     ]
    }
   ],
   "source": [
    "#SIMULACIONES:\n",
    "#Slew Rate:\n",
    "V_1_50 = 2.5535119e-3\n",
    "V_2_50 = 9.9319856\n",
    "t_1_50 = 10e-6\n",
    "t_2_50 = 30.481461e-6\n",
    "\n",
    "V_1_100 = 796.98712e-3\n",
    "V_2_100 = 9.8824635\n",
    "t_1_100 = 10.446663e-6\n",
    "t_2_100 = 28.727913e-6\n",
    "\n",
    "SR_simulado_50 = (V_2_50-V_1_50)/(t_2_50-t_1_50)\n",
    "SR_simulado_100 = (V_2_100-V_1_100)/(t_2_100-t_1_100)\n",
    "\n",
    "print(f\"SR = {SR:.6f} \")\n",
    "print(f\"SR_simulado_50 = {SR_simulado_50:.6f} \")\n",
    "print(f\"SR_simulado_100 = {SR_simulado_100:.6f} \")\n",
    "\n",
    "#Ancho de banda:\n",
    "Vo_simulado_50 = 8.5664103\n",
    "vo_3dB_50=Vo_simulado_50*0.707\n",
    "\n",
    "Vo_simulado_100 = 8.2884248\n",
    "vo_3dB_100=Vo_simulado_100*0.707\n",
    "\n",
    "print(f\"vo_3dB_50 = {vo_3dB_50:.6f} \")\n",
    "print(f\"vo_3dB_100 = {vo_3dB_100:.6f} \")"
   ]
  }
 ],
 "metadata": {
  "colab": {
   "authorship_tag": "ABX9TyPeWYJBq2+RxQ8dWrsnZdWx",
   "provenance": []
  },
  "kernelspec": {
   "display_name": "Python 3",
   "name": "python3"
  },
  "language_info": {
   "codemirror_mode": {
    "name": "ipython",
    "version": 3
   },
   "file_extension": ".py",
   "mimetype": "text/x-python",
   "name": "python",
   "nbconvert_exporter": "python",
   "pygments_lexer": "ipython3",
   "version": "3.11.3"
  }
 },
 "nbformat": 4,
 "nbformat_minor": 0
}
